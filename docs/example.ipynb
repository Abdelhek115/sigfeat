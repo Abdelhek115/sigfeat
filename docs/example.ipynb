{
 "cells": [
  {
   "cell_type": "markdown",
   "metadata": {},
   "source": [
    "Example using sigfeat framework\n",
    "==============================="
   ]
  },
  {
   "cell_type": "code",
   "execution_count": 1,
   "metadata": {
    "collapsed": false
   },
   "outputs": [
    {
     "name": "stdout",
     "output_type": "stream",
     "text": [
      "Populating the interactive namespace from numpy and matplotlib\n"
     ]
    }
   ],
   "source": [
    "%pylab inline"
   ]
  },
  {
   "cell_type": "markdown",
   "metadata": {},
   "source": [
    "First we need a test signal:"
   ]
  },
  {
   "cell_type": "code",
   "execution_count": 2,
   "metadata": {
    "collapsed": false
   },
   "outputs": [],
   "source": [
    "numsamples = 10 * 1024\n",
    "samplerate = 16000\n",
    "\n",
    "t = linspace(0, numsamples/samplerate, numsamples)\n",
    "x = (1 + sin(2*pi*10*t) + sin(2*pi*14*t)) * randn(numsamples)"
   ]
  },
  {
   "cell_type": "code",
   "execution_count": 3,
   "metadata": {
    "collapsed": false
   },
   "outputs": [
    {
     "data": {
      "image/png": "[encoded data removed]",
      "text/plain": [
       "<matplotlib.figure.Figure at 0x7487748>"
      ]
     },
     "metadata": {},
     "output_type": "display_data"
    }
   ],
   "source": [
    "plot(t, x)\n",
    "grid(True)\n",
    "axis('tight');"
   ]
  },
  {
   "cell_type": "markdown",
   "metadata": {},
   "source": [
    "Import Sigfeat stuff\n",
    "--------------------"
   ]
  },
  {
   "cell_type": "code",
   "execution_count": 4,
   "metadata": {
    "collapsed": false
   },
   "outputs": [],
   "source": [
    "from sigfeat.source import ArraySource\n",
    "from sigfeat.sink import DefaultDictSink\n",
    "from sigfeat.feature import Feature, FeatureSet, hide\n",
    "from sigfeat.extractor import Extractor"
   ]
  },
  {
   "cell_type": "markdown",
   "metadata": {},
   "source": [
    "1. Define Features\n",
    "------------------"
   ]
  },
  {
   "cell_type": "code",
   "execution_count": 5,
   "metadata": {
    "collapsed": false
   },
   "outputs": [],
   "source": [
    "class BlockPosition(Feature):\n",
    "    def process(self, **bd):\n",
    "        return bd['index'] + int(0.5 * bd['source'].blocksize)\n",
    "\n",
    "\n",
    "class RMS(Feature):\n",
    "    # Square and Mean could be own features and requirements of this feature\n",
    "    def process(self, block, **data):\n",
    "        return np.sqrt(np.mean(block**2, axis=0))  \n",
    "\n",
    "\n",
    "class Abs(Feature):\n",
    "    def process(self, block, **data):\n",
    "        return np.abs(block)\n",
    "\n",
    "\n",
    "class AbsMax(Feature):\n",
    "    def requires(self):\n",
    "        return [hide(Abs())]  # The feature Abs is hidden and will not be written into Sink.\n",
    "\n",
    "    def process(self, block, **data):\n",
    "        return np.max(data['results']['Abs'], axis=0)\n",
    "    "
   ]
  },
  {
   "cell_type": "markdown",
   "metadata": {},
   "source": [
    "2. Create a Set of Features you want to extract\n",
    "-----------------------------------------------"
   ]
  },
  {
   "cell_type": "code",
   "execution_count": 6,
   "metadata": {
    "collapsed": true
   },
   "outputs": [],
   "source": [
    "fset = FeatureSet(\n",
    "    BlockPosition(name='index'),\n",
    "    RMS(name='rms'),\n",
    "    AbsMax(name='absmax')\n",
    "    )"
   ]
  },
  {
   "cell_type": "markdown",
   "metadata": {},
   "source": [
    "3. Build a feature extractor instance\n",
    "-------------------------------------"
   ]
  },
  {
   "cell_type": "code",
   "execution_count": 7,
   "metadata": {
    "collapsed": true
   },
   "outputs": [],
   "source": [
    "fe = Extractor(featureset=fset)"
   ]
  },
  {
   "cell_type": "markdown",
   "metadata": {},
   "source": [
    "4. Define a sink and a source instance\n",
    "--------------------------------------"
   ]
  },
  {
   "cell_type": "code",
   "execution_count": 8,
   "metadata": {
    "collapsed": true
   },
   "outputs": [],
   "source": [
    "sink = DefaultDictSink()\n",
    "source = ArraySource(x, name='testsig', samplerate=samplerate, blocksize=512, overlap=256)"
   ]
  },
  {
   "cell_type": "markdown",
   "metadata": {},
   "source": [
    "5. Extract the features\n",
    "-----------------------"
   ]
  },
  {
   "cell_type": "code",
   "execution_count": 9,
   "metadata": {
    "collapsed": false
   },
   "outputs": [],
   "source": [
    "res = fe.extract(source, sink)"
   ]
  },
  {
   "cell_type": "code",
   "execution_count": 10,
   "metadata": {
    "collapsed": false
   },
   "outputs": [
    {
     "data": {
      "image/png": "[encoded data removed]",
      "text/plain": [
       "<matplotlib.figure.Figure at 0x7b32d68>"
      ]
     },
     "metadata": {},
     "output_type": "display_data"
    }
   ],
   "source": [
    "plot(x, color='grey', alpha=0.5)\n",
    "plot(res['index'], res['rms'])\n",
    "plot(res['index'], res['absmax'])\n",
    "axis('tight')\n",
    "grid(True)"
   ]
  },
  {
   "cell_type": "code",
   "execution_count": 11,
   "metadata": {
    "collapsed": true
   },
   "outputs": [],
   "source": [
    "import json"
   ]
  },
  {
   "cell_type": "code",
   "execution_count": 13,
   "metadata": {
    "collapsed": false
   },
   "outputs": [
    {
     "name": "stdout",
     "output_type": "stream",
     "text": [
      "{\n",
      "  \"absmax\": [\n",
      "    9.172215886351264,\n",
      "    9.172215886351264,\n",
      "    5.6621409574757635,\n",
      "    1.7387987776864615,\n",
      "    4.581164331429282,\n",
      "    5.695794712166501,\n",
      "    5.695794712166501,\n",
      "    3.326903980520358,\n",
      "    4.710476094599585,\n",
      "    4.710476094599585,\n",
      "    2.9368201730377317,\n",
      "    1.8911803348394016,\n",
      "    6.549598843481546,\n",
      "    7.349625338974506,\n",
      "    7.349625338974506,\n",
      "    5.624728415646231,\n",
      "    2.2445952863759753,\n",
      "    6.8155456083900905,\n",
      "    6.8155456083900905,\n",
      "    5.853595543552875,\n",
      "    5.602983727825991,\n",
      "    2.545461201658023,\n",
      "    2.545461201658023,\n",
      "    2.3978128979678086,\n",
      "    2.1867971042299077,\n",
      "    8.00543395204094,\n",
      "    8.00543395204094,\n",
      "    7.978011629596164,\n",
      "    4.63726446920205,\n",
      "    2.696787091181048,\n",
      "    6.231354739478538,\n",
      "    10.744204117138693,\n",
      "    10.744204117138693,\n",
      "    5.490236539052896,\n",
      "    1.1737643616710018,\n",
      "    3.6342578064493787,\n",
      "    4.492485959896646,\n",
      "    4.492485959896646,\n",
      "    3.452195893047934,\n",
      "    3.223220138250903\n",
      "  ],\n",
      "  \"features\": {\n",
      "    \"absmax\": {\n",
      "      \"metadata\": {\n",
      "        \"classname\": \"AbsMax\"\n",
      "      },\n",
      "      \"parameters\": {\n",
      "        \"name\": \"absmax\"\n",
      "      }\n",
      "    },\n",
      "    \"index\": {\n",
      "      \"metadata\": {\n",
      "        \"classname\": \"BlockPosition\"\n",
      "      },\n",
      "      \"parameters\": {\n",
      "        \"name\": \"index\"\n",
      "      }\n",
      "    },\n",
      "    \"rms\": {\n",
      "      \"metadata\": {\n",
      "        \"classname\": \"RMS\"\n",
      "      },\n",
      "      \"parameters\": {\n",
      "        \"name\": \"rms\"\n",
      "      }\n",
      "    }\n",
      "  },\n",
      "  \"index\": [\n",
      "    256,\n",
      "    512,\n",
      "    768,\n",
      "    1024,\n",
      "    1280,\n",
      "    1536,\n",
      "    1792,\n",
      "    2048,\n",
      "    2304,\n",
      "    2560,\n",
      "    2816,\n",
      "    3072,\n",
      "    3328,\n",
      "    3584,\n",
      "    3840,\n",
      "    4096,\n",
      "    4352,\n",
      "    4608,\n",
      "    4864,\n",
      "    5120,\n",
      "    5376,\n",
      "    5632,\n",
      "    5888,\n",
      "    6144,\n",
      "    6400,\n",
      "    6656,\n",
      "    6912,\n",
      "    7168,\n",
      "    7424,\n",
      "    7680,\n",
      "    7936,\n",
      "    8192,\n",
      "    8448,\n",
      "    8704,\n",
      "    8960,\n",
      "    9216,\n",
      "    9472,\n",
      "    9728,\n",
      "    9984,\n",
      "    10240\n",
      "  ],\n",
      "  \"rms\": [\n",
      "    2.3912819754953127,\n",
      "    2.1557070573098973,\n",
      "    0.9897586270262956,\n",
      "    0.3508476566880328,\n",
      "    0.9936191397033519,\n",
      "    1.4587673165958046,\n",
      "    1.3281855282169641,\n",
      "    1.1032394345444887,\n",
      "    1.3241660794271455,\n",
      "    1.224068718776341,\n",
      "    0.6784924864311082,\n",
      "    0.3413659735913111,\n",
      "    1.3426453111936782,\n",
      "    2.2827254291589814,\n",
      "    2.158845162372138,\n",
      "    1.2073581922194527,\n",
      "    0.6650994269785707,\n",
      "    1.232682705231408,\n",
      "    1.9919774875789484,\n",
      "    2.000835480165938,\n",
      "    1.2364098671715893,\n",
      "    0.6338042177809567,\n",
      "    0.8125089073145665,\n",
      "    0.7653473528147214,\n",
      "    0.6127731749577963,\n",
      "    1.2976848315596918,\n",
      "    1.9569761933542418,\n",
      "    1.801494147503799,\n",
      "    1.0313115672308701,\n",
      "    0.60572150840766,\n",
      "    1.2300527144370035,\n",
      "    2.3270813650608706,\n",
      "    2.384279390515004,\n",
      "    1.2736135959519177,\n",
      "    0.3109513457808247,\n",
      "    0.7721306105768495,\n",
      "    1.335044968945679,\n",
      "    1.4023929903471668,\n",
      "    1.1444733222849657,\n",
      "    1.0710350014693568\n",
      "  ],\n",
      "  \"source\": {\n",
      "    \"metadata\": {\n",
      "      \"arraylen\": 10240,\n",
      "      \"channels\": 1.0,\n",
      "      \"classname\": \"ArraySource\",\n",
      "      \"name\": \"testsig\",\n",
      "      \"samplerate\": 16000\n",
      "    },\n",
      "    \"parameters\": {\n",
      "      \"blocksize\": 512,\n",
      "      \"overlap\": 256\n",
      "    }\n",
      "  }\n",
      "}\n"
     ]
    }
   ],
   "source": [
    "print(json.dumps(sink, indent=2, default=str, sort_keys=True))"
   ]
  },
  {
   "cell_type": "code",
   "execution_count": null,
   "metadata": {
    "collapsed": true
   },
   "outputs": [],
   "source": []
  }
 ],
 "metadata": {
  "kernelspec": {
   "display_name": "Python 3",
   "language": "python",
   "name": "python3"
  },
  "language_info": {
   "codemirror_mode": {
    "name": "ipython",
    "version": 3
   },
   "file_extension": ".py",
   "mimetype": "text/x-python",
   "name": "python",
   "nbconvert_exporter": "python",
   "pygments_lexer": "ipython3",
   "version": "3.4.4"
  }
 },
 "nbformat": 4,
 "nbformat_minor": 0
}

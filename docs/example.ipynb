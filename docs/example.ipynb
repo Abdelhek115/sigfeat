{
 "cells": [
  {
   "cell_type": "markdown",
   "metadata": {},
   "source": [
    "Example using sigfeat framework\n",
    "==============================="
   ]
  },
  {
   "cell_type": "code",
   "execution_count": 52,
   "metadata": {
    "collapsed": false
   },
   "outputs": [
    {
     "name": "stdout",
     "output_type": "stream",
     "text": [
      "Populating the interactive namespace from numpy and matplotlib\n"
     ]
    }
   ],
   "source": [
    "%pylab inline"
   ]
  },
  {
   "cell_type": "markdown",
   "metadata": {},
   "source": [
    "First we need a test signal:"
   ]
  },
  {
   "cell_type": "code",
   "execution_count": 53,
   "metadata": {
    "collapsed": false
   },
   "outputs": [],
   "source": [
    "numsamples = 10 * 1024\n",
    "samplerate = 16000\n",
    "\n",
    "t = linspace(0, numsamples/samplerate, numsamples)\n",
    "x = (1 + sin(2*pi*10*t) + sin(2*pi*14*t)) * randn(numsamples)"
   ]
  },
  {
   "cell_type": "code",
   "execution_count": 54,
   "metadata": {
    "collapsed": false
   },
   "outputs": [
    {
     "data": {
      "image/png": "[encoded data removed]",
      "text/plain": [
       "<matplotlib.figure.Figure at 0x7726358>"
      ]
     },
     "metadata": {},
     "output_type": "display_data"
    }
   ],
   "source": [
    "plot(t, x)\n",
    "grid(True)\n",
    "axis('tight');"
   ]
  },
  {
   "cell_type": "markdown",
   "metadata": {},
   "source": [
    "Import Sigfeat stuff\n",
    "--------------------"
   ]
  },
  {
   "cell_type": "code",
   "execution_count": 49,
   "metadata": {
    "collapsed": false
   },
   "outputs": [],
   "source": [
    "from sigfeat.source import ArraySource\n",
    "from sigfeat.sink import DefaultDictSink\n",
    "from sigfeat.feature import Feature, FeatureSet, hide\n",
    "from sigfeat.extractor import Extractor"
   ]
  },
  {
   "cell_type": "markdown",
   "metadata": {},
   "source": [
    "1. Define Features\n",
    "------------------"
   ]
  },
  {
   "cell_type": "code",
   "execution_count": 21,
   "metadata": {
    "collapsed": false
   },
   "outputs": [],
   "source": [
    "class BlockPosition(Feature):\n",
    "    def process(self, **bd):\n",
    "        return bd['index'] + int(0.5 * bd['source'].blocksize)\n",
    "\n",
    "\n",
    "class RMS(Feature):\n",
    "    # Square and Mean could be own features and requirements of this feature\n",
    "    def process(self, block, **data):\n",
    "        return np.sqrt(np.mean(block**2, axis=0))  \n",
    "\n",
    "\n",
    "class Abs(Feature):\n",
    "    def process(self, block, **data):\n",
    "        return np.abs(block)\n",
    "\n",
    "\n",
    "class AbsMax(Feature):\n",
    "    def requires(self):\n",
    "        return [hide(Abs())]  # The feature Abs is hidden and will not be written into Sink.\n",
    "\n",
    "    def process(self, block, **data):\n",
    "        return np.max(data['results']['Abs'], axis=0)\n",
    "    "
   ]
  },
  {
   "cell_type": "markdown",
   "metadata": {},
   "source": [
    "2. Create a Set of Features you want to extract\n",
    "-----------------------------------------------"
   ]
  },
  {
   "cell_type": "code",
   "execution_count": 50,
   "metadata": {
    "collapsed": true
   },
   "outputs": [],
   "source": [
    "fset = FeatureSet(\n",
    "    BlockPosition(name='index'),\n",
    "    RMS(name='rms'),\n",
    "    AbsMax(name='absmax')\n",
    "    )"
   ]
  },
  {
   "cell_type": "markdown",
   "metadata": {},
   "source": [
    "3. Build a feature extractor instance\n",
    "-------------------------------------"
   ]
  },
  {
   "cell_type": "code",
   "execution_count": 39,
   "metadata": {
    "collapsed": true
   },
   "outputs": [],
   "source": [
    "fe = Extractor(featureset=fset)"
   ]
  },
  {
   "cell_type": "markdown",
   "metadata": {},
   "source": [
    "4. Define a sink and a source instance\n",
    "--------------------------------------"
   ]
  },
  {
   "cell_type": "code",
   "execution_count": 40,
   "metadata": {
    "collapsed": true
   },
   "outputs": [],
   "source": [
    "sink = DefaultDictSink()\n",
    "source = ArraySource(x, name='testsig', samplerate=samplerate, blocksize=512, overlap=256)"
   ]
  },
  {
   "cell_type": "markdown",
   "metadata": {},
   "source": [
    "5. Extract the features\n",
    "-----------------------"
   ]
  },
  {
   "cell_type": "code",
   "execution_count": 41,
   "metadata": {
    "collapsed": false
   },
   "outputs": [],
   "source": [
    "res = fe.extract(source, sink)"
   ]
  },
  {
   "cell_type": "code",
   "execution_count": 42,
   "metadata": {
    "collapsed": false
   },
   "outputs": [
    {
     "data": {
      "image/png": "[encoded data removed]",
      "text/plain": [
       "<matplotlib.figure.Figure at 0xc4f940>"
      ]
     },
     "metadata": {},
     "output_type": "display_data"
    }
   ],
   "source": [
    "plot(x, color='grey', alpha=0.5)\n",
    "plot(res['index'], res['rms'])\n",
    "plot(res['index'], res['absmax'])\n",
    "axis('tight')\n",
    "grid(True)"
   ]
  },
  {
   "cell_type": "code",
   "execution_count": 43,
   "metadata": {
    "collapsed": true
   },
   "outputs": [],
   "source": [
    "import json"
   ]
  },
  {
   "cell_type": "code",
   "execution_count": 44,
   "metadata": {
    "collapsed": false
   },
   "outputs": [
    {
     "name": "stdout",
     "output_type": "stream",
     "text": [
      "{\n",
      "  \"absmax\": [\n",
      "    9.17553510198324,\n",
      "    9.17553510198324,\n",
      "    6.19729784624643,\n",
      "    1.298019055801678,\n",
      "    3.966418053026074,\n",
      "    5.774181685391255,\n",
      "    5.774181685391255,\n",
      "    4.976003175901866,\n",
      "    4.976003175901866,\n",
      "    4.362891283177347,\n",
      "    3.5843826442597244,\n",
      "    2.8455096148698953,\n",
      "    7.924953572283984,\n",
      "    8.796358676819938,\n",
      "    8.796358676819938,\n",
      "    5.808376697705565,\n",
      "    2.9749848950441855,\n",
      "    4.644930777729553,\n",
      "    6.459720234484151,\n",
      "    7.221752810313926,\n",
      "    7.221752810313926,\n",
      "    2.390547476014788,\n",
      "    3.130528575981757,\n",
      "    3.130528575981757,\n",
      "    2.4365037409841253,\n",
      "    6.79103109773276,\n",
      "    6.79103109773276,\n",
      "    6.258287398665488,\n",
      "    5.932994592903219,\n",
      "    3.0311636716504733,\n",
      "    5.888054334620736,\n",
      "    7.2741504852464915,\n",
      "    7.2741504852464915,\n",
      "    5.535093252477868,\n",
      "    1.2646687334903637,\n",
      "    3.880011706155123,\n",
      "    4.079465591237588,\n",
      "    4.72906568174815,\n",
      "    4.72906568174815,\n",
      "    3.495275454663786\n",
      "  ],\n",
      "  \"index\": [\n",
      "    256,\n",
      "    512,\n",
      "    768,\n",
      "    1024,\n",
      "    1280,\n",
      "    1536,\n",
      "    1792,\n",
      "    2048,\n",
      "    2304,\n",
      "    2560,\n",
      "    2816,\n",
      "    3072,\n",
      "    3328,\n",
      "    3584,\n",
      "    3840,\n",
      "    4096,\n",
      "    4352,\n",
      "    4608,\n",
      "    4864,\n",
      "    5120,\n",
      "    5376,\n",
      "    5632,\n",
      "    5888,\n",
      "    6144,\n",
      "    6400,\n",
      "    6656,\n",
      "    6912,\n",
      "    7168,\n",
      "    7424,\n",
      "    7680,\n",
      "    7936,\n",
      "    8192,\n",
      "    8448,\n",
      "    8704,\n",
      "    8960,\n",
      "    9216,\n",
      "    9472,\n",
      "    9728,\n",
      "    9984,\n",
      "    10240\n",
      "  ],\n",
      "  \"source\": {\n",
      "    \"params\": {\n",
      "      \"samplerate\": 16000,\n",
      "      \"blocksize\": 512,\n",
      "      \"overlap\": 256\n",
      "    },\n",
      "    \"metadata\": {\n",
      "      \"classname\": \"ArraySource\",\n",
      "      \"channels\": 1.0,\n",
      "      \"name\": \"testsig\",\n",
      "      \"arraylen\": 10240\n",
      "    }\n",
      "  },\n",
      "  \"rms\": [\n",
      "    2.3995886834142452,\n",
      "    2.2197772931440536,\n",
      "    1.0548238642296,\n",
      "    0.32020002716963253,\n",
      "    0.9458303709002237,\n",
      "    1.4567577360349082,\n",
      "    1.3653728846892543,\n",
      "    1.173295641344219,\n",
      "    1.3577546863289334,\n",
      "    1.2212970722727166,\n",
      "    0.6991075653452238,\n",
      "    0.3895340013361642,\n",
      "    1.4958466854407577,\n",
      "    2.5486224459752624,\n",
      "    2.365938074092924,\n",
      "    1.220027407017529,\n",
      "    0.6372918861500143,\n",
      "    1.1359410234951373,\n",
      "    1.927954147905844,\n",
      "    1.9543384951390523,\n",
      "    1.1701552094128418,\n",
      "    0.6273292925922803,\n",
      "    0.8264155642080753,\n",
      "    0.8262214448770715,\n",
      "    0.6630953853753214,\n",
      "    1.377265468126691,\n",
      "    2.149009210768578,\n",
      "    1.994381475545637,\n",
      "    1.1095308457913677,\n",
      "    0.5738765885440906,\n",
      "    1.1988302319656687,\n",
      "    2.297922925893017,\n",
      "    2.323358134876487,\n",
      "    1.1994041492596457,\n",
      "    0.30876701994150124,\n",
      "    0.7786967187165893,\n",
      "    1.2900633477809293,\n",
      "    1.3407706649356321,\n",
      "    1.1727414804005603,\n",
      "    1.1650250440068175\n",
      "  ],\n",
      "  \"features\": {\n",
      "    \"absmax\": {\n",
      "      \"params\": {\n",
      "        \"name\": \"absmax\"\n",
      "      },\n",
      "      \"metadata\": {\n",
      "        \"classname\": \"AbsMax\"\n",
      "      }\n",
      "    },\n",
      "    \"rms\": {\n",
      "      \"params\": {\n",
      "        \"name\": \"rms\"\n",
      "      },\n",
      "      \"metadata\": {\n",
      "        \"classname\": \"RMS\"\n",
      "      }\n",
      "    },\n",
      "    \"index\": {\n",
      "      \"params\": {\n",
      "        \"name\": \"index\"\n",
      "      },\n",
      "      \"metadata\": {\n",
      "        \"classname\": \"BlockPosition\"\n",
      "      }\n",
      "    }\n",
      "  }\n",
      "}\n"
     ]
    }
   ],
   "source": [
    "print(json.dumps(sink, indent=2, default=str))"
   ]
  }
 ],
 "metadata": {
  "kernelspec": {
   "display_name": "Python 3",
   "language": "python",
   "name": "python3"
  },
  "language_info": {
   "codemirror_mode": {
    "name": "ipython",
    "version": 3
   },
   "file_extension": ".py",
   "mimetype": "text/x-python",
   "name": "python",
   "nbconvert_exporter": "python",
   "pygments_lexer": "ipython3",
   "version": "3.4.4"
  }
 },
 "nbformat": 4,
 "nbformat_minor": 0
}
